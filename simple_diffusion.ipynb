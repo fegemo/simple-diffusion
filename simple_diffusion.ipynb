{
 "cells": [
  {
   "cell_type": "markdown",
   "id": "5f912400",
   "metadata": {
    "id": "5f912400"
   },
   "source": [
    "# Lab 4, Fast Sampling"
   ]
  },
  {
   "cell_type": "code",
   "id": "VrnueJlA1wDc",
   "metadata": {
    "colab": {
     "base_uri": "https://localhost:8080/"
    },
    "id": "VrnueJlA1wDc",
    "outputId": "e9d7d7ef-5085-4d47-d2d5-f294316652c3",
    "ExecuteTime": {
     "end_time": "2024-12-18T17:12:25.187378Z",
     "start_time": "2024-12-18T17:12:25.150121Z"
    }
   },
   "source": [
    "# from google.colab import drive\n",
    "# drive.mount(\"/gdrive\")\n",
    "# !ln -s \"/gdrive/MyDrive/Doutorado/diffusion-utils\" \"/content/diffusion-utils\"\n",
    "#\n",
    "# import sys\n",
    "# sys.path.insert(0, \"/content/diffusion-utils\")"
   ],
   "outputs": [],
   "execution_count": 1
  },
  {
   "cell_type": "code",
   "id": "700e687c",
   "metadata": {
    "id": "700e687c",
    "ExecuteTime": {
     "end_time": "2024-12-18T17:12:31.580495Z",
     "start_time": "2024-12-18T17:12:25.196545Z"
    }
   },
   "source": [
    "from typing import Dict, Tuple\n",
    "from tqdm.notebook import tqdm\n",
    "import torch\n",
    "import torch.nn as nn\n",
    "import torch.nn.functional as F\n",
    "from torch.utils.data import DataLoader\n",
    "from torchvision import models, transforms\n",
    "from torchvision.utils import save_image, make_grid\n",
    "import matplotlib.pyplot as plt\n",
    "from matplotlib.animation import FuncAnimation, PillowWriter\n",
    "import numpy as np\n",
    "from IPython.display import HTML\n",
    "from diffusion_utilities import *"
   ],
   "outputs": [],
   "execution_count": 2
  },
  {
   "cell_type": "code",
   "source": [
    "print(torch.__version__)"
   ],
   "metadata": {
    "colab": {
     "base_uri": "https://localhost:8080/"
    },
    "id": "NGztHbN3sYxh",
    "outputId": "49cb9d09-2ae9-419b-ffed-0e1845122512",
    "ExecuteTime": {
     "end_time": "2024-12-18T17:12:31.865798Z",
     "start_time": "2024-12-18T17:12:31.836130Z"
    }
   },
   "id": "NGztHbN3sYxh",
   "outputs": [
    {
     "name": "stdout",
     "output_type": "stream",
     "text": [
      "2.5.1+cu124\n"
     ]
    }
   ],
   "execution_count": 3
  },
  {
   "cell_type": "markdown",
   "id": "7c0d229a",
   "metadata": {
    "id": "7c0d229a"
   },
   "source": [
    "# Setting Things Up"
   ]
  },
  {
   "cell_type": "code",
   "id": "23507e17",
   "metadata": {
    "id": "23507e17",
    "ExecuteTime": {
     "end_time": "2024-12-18T17:12:31.942621Z",
     "start_time": "2024-12-18T17:12:31.911331Z"
    }
   },
   "source": [
    "class ContextUnet(nn.Module):\n",
    "    def __init__(self, in_channels, n_feat=64, n_cfeat=5, height=64):  # cfeat - context features\n",
    "        super(ContextUnet, self).__init__()\n",
    "\n",
    "        # number of input channels, number of intermediate feature maps and number of classes\n",
    "        self.in_channels = in_channels\n",
    "        self.n_feat = n_feat\n",
    "        self.n_cfeat = n_cfeat\n",
    "        self.h = height  #assume h == w. must be divisible by 4, so 28,24,20,16...\n",
    "\n",
    "        # Initialize the initial convolutional layer\n",
    "        self.init_conv = ResidualConvBlock(in_channels, n_feat, is_res=True)\n",
    "                                                     # init_ #[b, 64, 64, 64]\n",
    "\n",
    "        # Initialize the down-sampling path of the U-Net with two levels\n",
    "        self.down1 = UnetDown(  n_feat, n_feat)        # down1 #[b,  64, 32, 32]\n",
    "        self.down2 = UnetDown(  n_feat, 2 * n_feat)    # down2 #[b, 128, 16, 16]\n",
    "        self.down3 = UnetDown(2 * n_feat, 4 * n_feat)    # down3 #[b, 256,  8,  8]\n",
    "        self.down4 = UnetDown(4 * n_feat, 8 * n_feat)    # down4 #[b, 512,  4,  4]\n",
    "\n",
    "         # original: self.to_vec = nn.Sequential(nn.AvgPool2d(7), nn.GELU())\n",
    "        self.to_vec = nn.Sequential(nn.AvgPool2d(4), nn.GELU())\n",
    "                                                     # to_ve #[b, 512,  1,  1]\n",
    "\n",
    "        # Embed the timestep and context labels with a one-layer fully connected neural network\n",
    "        self.timeembed1 = EmbedFC(1, 8*n_feat)\n",
    "        self.timeembed2 = EmbedFC(1, 4*n_feat)\n",
    "        self.timeembed3 = EmbedFC(1, 2*n_feat)\n",
    "        self.timeembed4 = EmbedFC(1, 1*n_feat)\n",
    "        self.contextembed1 = EmbedFC(n_cfeat, 8*n_feat)\n",
    "        self.contextembed2 = EmbedFC(n_cfeat, 4*n_feat)\n",
    "        self.contextembed3 = EmbedFC(n_cfeat, 2*n_feat)\n",
    "        self.contextembed4 = EmbedFC(n_cfeat, 1*n_feat)\n",
    "\n",
    "        # Initialize the up-sampling path of the U-Net with four levels\n",
    "        self.up0 = nn.Sequential(\n",
    "            nn.ConvTranspose2d(8 * n_feat, 8 * n_feat, 4, 4),  # alterei!! h//4 para 4\n",
    "            nn.GroupNorm(8, 8 * n_feat), # normalize\n",
    "            nn.ReLU(),\n",
    "        )\n",
    "        #up0 [b, 512,  1,  1]\n",
    "        self.up1 = UnetUp(16 * n_feat, 4 * n_feat) #[b, 256,  4,  4]\n",
    "        self.up2 = UnetUp( 8 * n_feat, 2 * n_feat) #[b, 128,  8,  8]\n",
    "        self.up3 = UnetUp( 4 * n_feat, 1 * n_feat) #[b,  64, 16, 16]\n",
    "        self.up4 = UnetUp( 2 * n_feat, 1 * n_feat) #[b,  32, 32, 32]\n",
    "\n",
    "        # Initialize the final convolutional layers to map to the same number of channels as the input image\n",
    "        self.out = nn.Sequential(\n",
    "            nn.Conv2d(2 * n_feat, n_feat, 3, 1, 1), # reduce number of feature maps   #in_channels, out_channels, kernel_size, stride=1, padding=0\n",
    "            nn.GroupNorm(8, n_feat), # normalize\n",
    "            nn.ReLU(),\n",
    "            nn.Conv2d(n_feat, self.in_channels, 3, 1, 1), # map to same number of channels as input\n",
    "        )\n",
    "\n",
    "    def forward(self, x, t, c=None):\n",
    "        \"\"\"\n",
    "        x : (batch, n_feat, h, w) : input image\n",
    "        t : (batch, n_cfeat)      : time step\n",
    "        c : (batch, n_classes)    : context label\n",
    "        \"\"\"\n",
    "        # x is the input image, c is the context label, t is the timestep, context_mask says which samples to block the context on\n",
    "\n",
    "        # pass the input image through the initial convolutional layer\n",
    "        x = self.init_conv(x)\n",
    "        # pass the result through the down-sampling path\n",
    "        down1 = self.down1(x)       #[b,  64, 32, 32]\n",
    "        down2 = self.down2(down1)   #[b, 128, 16, 16]\n",
    "        down3 = self.down3(down2)   #[b, 256,  8,  8]\n",
    "        down4 = self.down4(down3)   #[b, 512,  4,  4]\n",
    "        # print(\"down1.shape\", down1.shape)\n",
    "        # print(\"down2.shape\", down2.shape)\n",
    "        # print(\"down3.shape\", down3.shape)\n",
    "        # print(\"down4.shape\", down4.shape)\n",
    "\n",
    "        # convert the feature maps to a vector and apply an activation\n",
    "        hiddenvec = self.to_vec(down4)\n",
    "        # print(\"hiddenvec.shape\", hiddenvec.shape)\n",
    "                                    #[b, 128,  1,  1]\n",
    "\n",
    "        # mask out context if context_mask == 1\n",
    "        if c is None:\n",
    "            c = torch.zeros(x.shape[0], self.n_cfeat).to(x)\n",
    "\n",
    "        # embed context and timestep\n",
    "        cemb1 = self.contextembed1(c).view(-1, self.n_feat * 8, 1, 1)     # (batch, 2*n_feat, 1,1)\n",
    "        temb1 = self.timeembed1(t).view(-1, self.n_feat * 8, 1, 1)\n",
    "        cemb2 = self.contextembed2(c).view(-1, self.n_feat * 4, 1, 1)\n",
    "        temb2 = self.timeembed2(t).view(-1, self.n_feat * 4, 1, 1)\n",
    "        cemb3 = self.contextembed3(c).view(-1, self.n_feat * 2, 1, 1)\n",
    "        temb3 = self.timeembed3(t).view(-1, self.n_feat * 2, 1, 1)\n",
    "        cemb4 = self.contextembed4(c).view(-1, self.n_feat, 1, 1)\n",
    "        temb4 = self.timeembed4(t).view(-1, self.n_feat, 1, 1)\n",
    "        #print(f\"uunet forward: cemb1 {cemb1.shape}. temb1 {temb1.shape}, cemb2 {cemb2.shape}. temb2 {temb2.shape}\")\n",
    "\n",
    "        # print(\"bf up0\")\n",
    "        #[b, 128,  4,  4]\n",
    "        up1 = self.up0(hiddenvec)\n",
    "        # print(\"up1.shape\", up1.shape)\n",
    "        # print(\"(cemb1*up1 + temb1).shape\", (cemb1*up1 + temb1).shape)\n",
    "        up2 = self.up1(cemb1*up1 + temb1, down4)\n",
    "        # print(\"up2.shape\", up2.shape)\n",
    "        up3 = self.up2(cemb2*up2 + temb2, down3)\n",
    "        # print(\"up3.shape\", up3.shape)\n",
    "        up4 = self.up3(cemb3*up3 + temb3, down2)\n",
    "        # print(\"up4.shape\", up4.shape)\n",
    "        up5 = self.up4(cemb4*up4 + temb4, down1)\n",
    "        # print(\"up5.shape\", up5.shape)\n",
    "        out = self.out(torch.cat((up5, x), 1))\n",
    "        # print(\"out.shape\", out.shape)\n",
    "        return out\n"
   ],
   "outputs": [],
   "execution_count": 4
  },
  {
   "cell_type": "code",
   "id": "54c3a942",
   "metadata": {
    "id": "54c3a942",
    "ExecuteTime": {
     "end_time": "2024-12-18T17:12:32.901233Z",
     "start_time": "2024-12-18T17:12:31.942621Z"
    }
   },
   "source": [
    "# hyperparameters\n",
    "\n",
    "# diffusion hyperparameters\n",
    "timesteps = 500\n",
    "beta1 = 1e-4\n",
    "beta2 = 0.02\n",
    "\n",
    "# network hyperparameters\n",
    "device = torch.device(\"cuda:0\" if torch.cuda.is_available() else torch.device('cpu'))\n",
    "print(\"Device:\", device)\n",
    "n_feat = 64 # 64 hidden dimension feature\n",
    "n_cfeat = 5 # context vector is of size 5\n",
    "height = 64 # 16x16 image\n",
    "save_dir = './weights/'\n",
    "\n",
    "# training hyperparameters\n",
    "batch_size = 100\n",
    "n_epoch = 5\n",
    "lrate=1e-3"
   ],
   "outputs": [
    {
     "name": "stdout",
     "output_type": "stream",
     "text": [
      "Device: cuda:0\n"
     ]
    }
   ],
   "execution_count": 5
  },
  {
   "cell_type": "code",
   "id": "a705d0a8",
   "metadata": {
    "id": "a705d0a8",
    "ExecuteTime": {
     "end_time": "2024-12-18T17:12:33.182337Z",
     "start_time": "2024-12-18T17:12:32.921924Z"
    }
   },
   "source": [
    "# construct DDPM noise schedule\n",
    "b_t = (beta2 - beta1) * torch.linspace(0, 1, timesteps + 1, device=device) + beta1\n",
    "a_t = 1 - b_t\n",
    "ab_t = torch.cumsum(a_t.log(), dim=0).exp()\n",
    "ab_t[0] = 1"
   ],
   "outputs": [],
   "execution_count": 6
  },
  {
   "cell_type": "code",
   "id": "6bc9001e",
   "metadata": {
    "id": "6bc9001e",
    "ExecuteTime": {
     "end_time": "2024-12-18T17:12:33.620193Z",
     "start_time": "2024-12-18T17:12:33.374168Z"
    }
   },
   "source": [
    "# construct model\n",
    "nn_model = ContextUnet(in_channels=4, n_feat=n_feat, n_cfeat=n_cfeat, height=height).to(device)\n",
    "total_params = sum(p.numel() for p in nn_model.parameters() if p.requires_grad)\n",
    "\n",
    "print(f'Trainable parameters: {total_params:,}')"
   ],
   "outputs": [
    {
     "name": "stdout",
     "output_type": "stream",
     "text": [
      "Trainable parameters: 20,674,244\n"
     ]
    }
   ],
   "execution_count": 7
  },
  {
   "cell_type": "code",
   "id": "O4qg8MTgrMbj",
   "metadata": {
    "colab": {
     "base_uri": "https://localhost:8080/"
    },
    "id": "O4qg8MTgrMbj",
    "outputId": "9f2c79ac-5deb-465a-a2d1-999345effd10",
    "ExecuteTime": {
     "end_time": "2024-12-18T17:12:33.959100Z",
     "start_time": "2024-12-18T17:12:33.851374Z"
    }
   },
   "source": [
    "# load dataset and construct optimizer\n",
    "dataset = CustomDataset(\"./data/train-images-FRONT.npy\", \"./data/train-classes-FRONT.npy\", transform, null_context=False)\n",
    "dataloader = DataLoader(dataset, batch_size=batch_size, shuffle=True, num_workers=1)\n",
    "optim = torch.optim.Adam(nn_model.parameters(), lr=lrate)"
   ],
   "outputs": [
    {
     "name": "stdout",
     "output_type": "stream",
     "text": [
      "sprite shape: (12074, 64, 64, 4)\n",
      "labels shape: (12074, 5)\n"
     ]
    }
   ],
   "execution_count": 8
  },
  {
   "cell_type": "code",
   "id": "bfNqp4pXrXSF",
   "metadata": {
    "id": "bfNqp4pXrXSF",
    "ExecuteTime": {
     "end_time": "2024-12-18T17:12:34.006024Z",
     "start_time": "2024-12-18T17:12:33.974742Z"
    }
   },
   "source": [
    "# helper function: perturbs an image to a specified noise level\n",
    "def perturb_input(x, t, noise):\n",
    "    return ab_t.sqrt()[t, None, None, None] * x + (1 - ab_t[t, None, None, None]) * noise"
   ],
   "outputs": [],
   "execution_count": 9
  },
  {
   "cell_type": "code",
   "id": "mJt1nYcqqeGz",
   "metadata": {
    "colab": {
     "base_uri": "https://localhost:8080/",
     "height": 477
    },
    "id": "mJt1nYcqqeGz",
    "outputId": "6498100e-3698-45bd-c92a-ce6bb8a18dee",
    "jupyter": {
     "is_executing": true
    },
    "ExecuteTime": {
     "start_time": "2024-12-18T17:12:34.232616Z"
    }
   },
   "source": [
    "# training with context code\n",
    "# set into train mode\n",
    "nn_model.train()\n",
    "\n",
    "for ep in (pbar_epochs := tqdm(range(n_epoch))):\n",
    "    # print(f'epoch {ep}/{n_epoch}')\n",
    "    pbar_epochs.set_description(f'Training Epoch {ep}')\n",
    "\n",
    "    # linearly decay learning rate\n",
    "    optim.param_groups[0]['lr'] = lrate*(1-ep/n_epoch)\n",
    "\n",
    "    for x, c in (pbar_batches := tqdm(dataloader, mininterval=2, leave=False)):\n",
    "        pbar_batches.set_description(f'Minibatches')\n",
    "        optim.zero_grad()\n",
    "        x = x.to(device)\n",
    "        c = c.to(x)\n",
    "\n",
    "        # randomly mask out c\n",
    "        context_mask = torch.bernoulli(torch.zeros(c.shape[0]) + 0.9).to(device)\n",
    "        c = c * context_mask.unsqueeze(-1)\n",
    "\n",
    "        # perturb data\n",
    "        noise = torch.randn_like(x)\n",
    "        t = torch.randint(1, timesteps + 1, (x.shape[0],)).to(device)\n",
    "        x_pert = perturb_input(x, t, noise)\n",
    "\n",
    "        # use network to recover noise\n",
    "        pred_noise = nn_model(x_pert, t / timesteps, c=c)\n",
    "\n",
    "        # loss is mean squared error between the predicted and true noise\n",
    "        loss = F.mse_loss(pred_noise, noise)\n",
    "        loss.backward()\n",
    "\n",
    "        optim.step()\n",
    "\n",
    "    # save model periodically\n",
    "    if ep%4==0 or ep == int(n_epoch-1):\n",
    "        if not os.path.exists(save_dir):\n",
    "            os.mkdir(save_dir)\n",
    "        torch.save(nn_model.state_dict(), save_dir + f\"context_model_{ep}.pth\")\n",
    "        print('saved model at ' + save_dir + f\"context_model_{ep}.pth\")"
   ],
   "outputs": [
    {
     "data": {
      "text/plain": [
       "  0%|          | 0/5 [00:00<?, ?it/s]"
      ],
      "application/vnd.jupyter.widget-view+json": {
       "version_major": 2,
       "version_minor": 0,
       "model_id": "ed5598749afd4e55b73ae95bebdee402"
      }
     },
     "metadata": {},
     "output_type": "display_data"
    },
    {
     "data": {
      "text/plain": [
       "  0%|          | 0/121 [00:00<?, ?it/s]"
      ],
      "application/vnd.jupyter.widget-view+json": {
       "version_major": 2,
       "version_minor": 0,
       "model_id": "f7e3989f9a2c48e38167a921cb513749"
      }
     },
     "metadata": {},
     "output_type": "display_data"
    }
   ],
   "execution_count": null
  },
  {
   "cell_type": "markdown",
   "id": "7b0d59f3",
   "metadata": {
    "id": "7b0d59f3"
   },
   "source": [
    "# Fast Sampling"
   ]
  },
  {
   "cell_type": "code",
   "execution_count": null,
   "id": "92257ac9",
   "metadata": {
    "id": "92257ac9"
   },
   "outputs": [],
   "source": [
    "# define sampling function for DDIM\n",
    "# removes the noise using ddim\n",
    "def denoise_ddim(x, t, t_prev, pred_noise):\n",
    "    ab = ab_t[t]\n",
    "    ab_prev = ab_t[t_prev]\n",
    "\n",
    "    x0_pred = ab_prev.sqrt() / ab.sqrt() * (x - (1 - ab).sqrt() * pred_noise)\n",
    "    dir_xt = (1 - ab_prev).sqrt() * pred_noise\n",
    "\n",
    "    return x0_pred + dir_xt"
   ]
  },
  {
   "cell_type": "code",
   "execution_count": null,
   "id": "21f49d9d",
   "metadata": {
    "id": "21f49d9d"
   },
   "outputs": [],
   "source": [
    "# sample quickly using DDIM\n",
    "@torch.no_grad()\n",
    "def sample_ddim(n_sample, n=20):\n",
    "    # x_T ~ N(0, 1), sample initial noise\n",
    "    samples = torch.randn(n_sample, 3, height, height).to(device)\n",
    "\n",
    "    # array to keep track of generated steps for plotting\n",
    "    intermediate = []\n",
    "    step_size = timesteps // n\n",
    "    for i in range(timesteps, 0, -step_size):\n",
    "        print(f'sampling timestep {i:3d}', end='\\r')\n",
    "\n",
    "        # reshape time tensor\n",
    "        t = torch.tensor([i / timesteps])[:, None, None, None].to(device)\n",
    "\n",
    "        eps = nn_model(samples, t)    # predict noise e_(x_t,t)\n",
    "        samples = denoise_ddim(samples, i, i - step_size, eps)\n",
    "        intermediate.append(samples.detach().cpu().numpy())\n",
    "\n",
    "    intermediate = np.stack(intermediate)\n",
    "    return samples, intermediate"
   ]
  },
  {
   "cell_type": "code",
   "execution_count": null,
   "id": "35b055c6",
   "metadata": {
    "id": "35b055c6"
   },
   "outputs": [],
   "source": [
    "# load in model weights and set to eval mode\n",
    "nn_model.load_state_dict(torch.load(f\"{save_dir}/context_model_{n_epoch-1}.pth\", map_location=device))\n",
    "nn_model.eval()\n",
    "print(\"Loaded in Context Model\")"
   ]
  },
  {
   "cell_type": "code",
   "execution_count": null,
   "id": "a26ea76d",
   "metadata": {
    "id": "a26ea76d"
   },
   "outputs": [],
   "source": [
    "# fast sampling algorithm with context\n",
    "@torch.no_grad()\n",
    "def sample_ddim_context(n_sample, context, n=20):\n",
    "    # x_T ~ N(0, 1), sample initial noise\n",
    "    samples = torch.randn(n_sample, 4, height, height).to(device)\n",
    "\n",
    "    # array to keep track of generated steps for plotting\n",
    "    intermediate = []\n",
    "    step_size = timesteps // n\n",
    "    for i in range(timesteps, 0, -step_size):\n",
    "        print(f'sampling timestep {i:3d}', end='\\r')\n",
    "\n",
    "        # reshape time tensor\n",
    "        t = torch.tensor([i / timesteps])[:, None, None, None].to(device)\n",
    "\n",
    "        eps = nn_model(samples, t, c=context)    # predict noise e_(x_t,t)\n",
    "        samples = denoise_ddim(samples, i, i - step_size, eps)\n",
    "        intermediate.append(samples.detach().cpu().numpy())\n",
    "\n",
    "    intermediate = np.stack(intermediate)\n",
    "    return samples, intermediate"
   ]
  },
  {
   "cell_type": "code",
   "execution_count": null,
   "id": "8cdcd4e5",
   "metadata": {
    "id": "8cdcd4e5"
   },
   "outputs": [],
   "source": [
    "# visualize samples\n",
    "plt.clf()\n",
    "ctx = F.one_hot(torch.randint(0, 5, (32,)), 5).to(device=device).float()\n",
    "samples, intermediate = sample_ddim_context(32, ctx)\n",
    "animation_ddim_context = plot_sample(intermediate,32,4,save_dir, \"ani_run\", None, save=False)\n",
    "HTML(animation_ddim_context.to_jshtml())"
   ]
  },
  {
   "cell_type": "markdown",
   "id": "4db7e8fe-7c97-450f-8609-62160d65b478",
   "metadata": {
    "id": "4db7e8fe-7c97-450f-8609-62160d65b478"
   },
   "source": [
    "#### Compare DDPM, DDIM speed"
   ]
  },
  {
   "cell_type": "code",
   "execution_count": null,
   "id": "13da999a-ee74-4ed4-a722-6ac3d4cbf3bd",
   "metadata": {
    "id": "13da999a-ee74-4ed4-a722-6ac3d4cbf3bd"
   },
   "outputs": [],
   "source": [
    "# helper function; removes the predicted noise (but adds some noise back in to avoid collapse)\n",
    "def denoise_add_noise(x, t, pred_noise, z=None):\n",
    "    if z is None:\n",
    "        z = torch.randn_like(x)\n",
    "    noise = b_t.sqrt()[t] * z\n",
    "    mean = (x - pred_noise * ((1 - a_t[t]) / (1 - ab_t[t]).sqrt())) / a_t[t].sqrt()\n",
    "    return mean + noise"
   ]
  },
  {
   "cell_type": "code",
   "execution_count": null,
   "id": "6d31547d",
   "metadata": {
    "id": "6d31547d"
   },
   "outputs": [],
   "source": [
    "# sample with context using standard algorithm\n",
    "@torch.no_grad()\n",
    "def sample_ddpm_context(n_sample, context, save_rate=20):\n",
    "    # x_T ~ N(0, 1), sample initial noise\n",
    "    samples = torch.randn(n_sample, 4, height, height).to(device)\n",
    "\n",
    "    # array to keep track of generated steps for plotting\n",
    "    intermediate = []\n",
    "    for i in range(timesteps, 0, -1):\n",
    "        print(f'sampling timestep {i:3d}', end='\\r')\n",
    "\n",
    "        # reshape time tensor\n",
    "        t = torch.tensor([i / timesteps])[:, None, None, None].to(device)\n",
    "\n",
    "        # sample some random noise to inject back in. For i = 1, don't add back in noise\n",
    "        z = torch.randn_like(samples) if i > 1 else 0\n",
    "\n",
    "        eps = nn_model(samples, t, c=context)    # predict noise e_(x_t,t, ctx)\n",
    "        samples = denoise_add_noise(samples, i, eps, z)\n",
    "        if i % save_rate==0 or i==timesteps or i<8:\n",
    "            intermediate.append(samples.detach().cpu().numpy())\n",
    "\n",
    "    intermediate = np.stack(intermediate)\n",
    "    return samples, intermediate"
   ]
  },
  {
   "cell_type": "code",
   "execution_count": null,
   "id": "YXfZZz2s6XDh",
   "metadata": {
    "id": "YXfZZz2s6XDh"
   },
   "outputs": [],
   "source": [
    "# visualize samples\n",
    "plt.clf()\n",
    "ctx = F.one_hot(torch.randint(0, 5, (32,)), 5).to(device=device).float()\n",
    "samples, intermediate = sample_ddpm_context(32, ctx)\n",
    "animation_ddpm_context = plot_sample(intermediate,32,4,save_dir, \"ani_run\", None, save=False)\n",
    "HTML(animation_ddpm_context.to_jshtml())"
   ]
  },
  {
   "cell_type": "code",
   "execution_count": null,
   "id": "6c002584",
   "metadata": {
    "id": "6c002584"
   },
   "outputs": [],
   "source": [
    "# %timeit -r 1 sample_ddim(32, n=25)\n",
    "# %timeit -r 1 sample_ddpm(32, )"
   ]
  },
  {
   "cell_type": "markdown",
   "id": "74ab28dc-74b7-47e3-b8a9-cace21a6a2d7",
   "metadata": {
    "id": "74ab28dc-74b7-47e3-b8a9-cace21a6a2d7"
   },
   "source": [
    "# Acknowledgments\n",
    "Sprites by ElvGames, [FrootsnVeggies](https://zrghr.itch.io/froots-and-veggies-culinary-pixels) and  [kyrise](https://kyrise.itch.io/)   \n",
    "This code is modified from, https://github.com/cloneofsimo/minDiffusion   \n",
    "Diffusion model is based on [Denoising Diffusion Probabilistic Models](https://arxiv.org/abs/2006.11239) and [Denoising Diffusion Implicit Models](https://arxiv.org/abs/2010.02502)\n"
   ]
  },
  {
   "cell_type": "code",
   "execution_count": null,
   "id": "0ce56fa3-3d85-4305-9eff-0a352a59401c",
   "metadata": {
    "id": "0ce56fa3-3d85-4305-9eff-0a352a59401c"
   },
   "outputs": [],
   "source": []
  }
 ],
 "metadata": {
  "accelerator": "GPU",
  "colab": {
   "gpuType": "T4",
   "provenance": []
  },
  "kernelspec": {
   "display_name": "Python 3 (ipykernel)",
   "name": "python3",
   "language": "python"
  },
  "language_info": {
   "codemirror_mode": {
    "name": "ipython",
    "version": 3
   },
   "file_extension": ".py",
   "mimetype": "text/x-python",
   "name": "python",
   "nbconvert_exporter": "python",
   "pygments_lexer": "ipython3",
   "version": "3.9.19"
  }
 },
 "nbformat": 4,
 "nbformat_minor": 5
}
